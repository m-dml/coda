{
 "cells": [
  {
   "cell_type": "code",
   "execution_count": 1,
   "id": "1bbb6429-d218-465e-8875-aefc317a3b50",
   "metadata": {
    "ExecuteTime": {
     "end_time": "2024-02-13T14:23:05.089233192Z",
     "start_time": "2024-02-13T14:22:44.105447762Z"
    },
    "tags": []
   },
   "outputs": [],
   "source": [
    "from argparse import Namespace\n",
    "import os\n",
    "import sys\n",
    "sys.path.insert(0,'..')\n",
    "\n",
    "from joblib import delayed, Parallel\n",
    "from tqdm.notebook import tqdm\n",
    "from datetime import datetime\n",
    "import h5py\n",
    "\n",
    "import torch\n",
    "from torchmetrics import MeanSquaredError\n",
    "import pandas as pd\n",
    "import numpy as np"
   ]
  },
  {
   "cell_type": "code",
   "execution_count": 2,
   "id": "ef5ab56a-a690-4fb5-a9e9-b82a02f70f78",
   "metadata": {
    "ExecuteTime": {
     "end_time": "2024-02-13T14:23:13.577833136Z",
     "start_time": "2024-02-13T14:23:05.140005866Z"
    },
    "tags": []
   },
   "outputs": [],
   "source": [
    "from hpl.scripts.test_data_assimilation_encoder import mesh_test_single_model\n",
    "from hpl.utils.postprocessing import (\n",
    "    load_test_simulations,\n",
    "    load_hydra_config,\n",
    ")"
   ]
  },
  {
   "cell_type": "code",
   "execution_count": 3,
   "id": "0a5e908f-c504-4101-96e8-096d3e74f62d",
   "metadata": {
    "ExecuteTime": {
     "end_time": "2024-02-13T14:23:13.618297086Z",
     "start_time": "2024-02-13T14:23:13.616620712Z"
    },
    "tags": []
   },
   "outputs": [],
   "source": [
    "import matplotlib.pyplot as plt\n",
    "from matplotlib.colors import ListedColormap\n",
    "import seaborn as sns\n",
    "import numpy as np\n",
    "from cycler import cycler\n",
    "\n",
    "hereon_color_array = np.array([\n",
    "    [230, 0, 70],\n",
    "    [0, 145, 160],\n",
    "    [0, 170, 230],\n",
    "    [250, 180, 35],\n",
    "    [0, 70, 125],\n",
    "    [175, 25, 60],\n",
    "    [170, 200, 70],\n",
    "    [250, 115, 80],\n",
    "    [140, 90, 180],\n",
    "\n",
    "])\n",
    "hereon_color_array = hereon_color_array / 255\n",
    "hereon_cmap = ListedColormap(hereon_color_array)\n",
    "plt.rc('image', cmap='gray')\n",
    "plt.rcParams['axes.prop_cycle'] = cycler(color=hereon_color_array)"
   ]
  },
  {
   "cell_type": "code",
   "execution_count": 4,
   "id": "df3cc445-1f18-4c29-a226-0d8371b220b9",
   "metadata": {
    "ExecuteTime": {
     "end_time": "2024-02-13T14:23:13.619113158Z",
     "start_time": "2024-02-13T14:23:13.617034447Z"
    },
    "tags": []
   },
   "outputs": [],
   "source": [
    "device = torch.device(\"cuda\")\n",
    "\n",
    "test_data_dir = \"/gpfs/home/zinchenk/dev/hidden-process-learning/data/testing/lorenz-one_level-grid_40-forcing_8.0-dt_0.01-rk4.h5\"\n",
    "experiment_dir = \"/gpfs/work/zinchenk/hpl_logs/data_assimilation/multirun/2023-08-16/17-34-47/11\"\n",
    "n_simulations = 25\n",
    "noise_std_min = 0.1\n",
    "noise_std_max = 3.0\n",
    "mask_fraction_min = 0.1\n",
    "mask_fraction_max = 0.9\n",
    "mesh_steps = 15\n",
    "ignore_edges = True\n",
    "output_directory = \"/gpfs/home/zinchenk/dev/hidden-process-learning/notebooks/\"\n",
    "n_jobs = 10\n",
    "seed = 101"
   ]
  },
  {
   "cell_type": "markdown",
   "id": "3bcc6772-41b2-4eea-8d62-f9959c5629de",
   "metadata": {},
   "source": [
    "# run data assimilation mesh test"
   ]
  },
  {
   "cell_type": "code",
   "execution_count": 5,
   "id": "c8030185-253c-43c4-960e-d3c3cd91f272",
   "metadata": {
    "ExecuteTime": {
     "end_time": "2024-02-13T14:24:09.365895363Z",
     "start_time": "2024-02-13T14:24:09.356594970Z"
    },
    "tags": []
   },
   "outputs": [],
   "source": [
    "timestamp = datetime.now().strftime(\"%Y-%d-%m-%H-%M\")\n",
    "output_directory = os.path.join(output_directory, timestamp)\n",
    "os.makedirs(output_directory)"
   ]
  },
  {
   "cell_type": "code",
   "execution_count": 6,
   "id": "ccac2d28-d74c-4053-b2a1-8c885c6d7189",
   "metadata": {
    "ExecuteTime": {
     "end_time": "2024-02-13T14:24:09.844377117Z",
     "start_time": "2024-02-13T14:24:09.829896996Z"
    },
    "tags": []
   },
   "outputs": [],
   "source": [
    "args = Namespace(\n",
    "    data_path=test_data_dir,\n",
    "    experiment_dir=experiment_dir,\n",
    "    output_dir=output_directory,\n",
    "    noise_std_min=noise_std_min,\n",
    "    noise_std_max=noise_std_max,\n",
    "    mask_fraction_min=mask_fraction_min,\n",
    "    mask_fraction_max=mask_fraction_max,\n",
    "    mesh_steps=mesh_steps,\n",
    "    seed=seed,\n",
    "    n_simulations=n_simulations,\n",
    "    device=str(device),\n",
    "    ignore_edges=ignore_edges,\n",
    "    n_jobs=n_jobs,\n",
    ")"
   ]
  },
  {
   "cell_type": "code",
   "execution_count": 143,
   "id": "d71ee643-be6e-46de-963a-7388f2d241da",
   "metadata": {
    "tags": []
   },
   "outputs": [
    {
     "name": "stderr",
     "output_type": "stream",
     "text": [
      "100%|███████████████████████████████████████████████████████████████████████████████████████████████████████████████████████| 225/225 [04:24<00:00,  1.17s/it]\n"
     ]
    }
   ],
   "source": [
    "mesh_test_single_model(args, experiment_dir)"
   ]
  },
  {
   "cell_type": "markdown",
   "id": "88bc1112-93cf-4e92-b757-eafb571b8ed0",
   "metadata": {},
   "source": [
    "# plotting"
   ]
  },
  {
   "cell_type": "code",
   "execution_count": 144,
   "id": "a459ef1f-d73f-4baa-8150-9cc82a600c5b",
   "metadata": {
    "tags": []
   },
   "outputs": [],
   "source": [
    "simulations = load_test_simulations(test_data_dir, n_simulations)\n",
    "rmse_func = MeanSquaredError(squared=False)\n",
    "config = load_hydra_config(experiment_dir)"
   ]
  },
  {
   "cell_type": "code",
   "execution_count": 145,
   "id": "295a6d7b-08fd-4a09-9ae1-ea49f869bd3b",
   "metadata": {
    "tags": []
   },
   "outputs": [
    {
     "data": {
      "application/vnd.jupyter.widget-view+json": {
       "model_id": "3ab84d68707c432180660f4a651fed19",
       "version_major": 2,
       "version_minor": 0
      },
      "text/plain": [
       "  0%|          | 0/225 [00:00<?, ?it/s]"
      ]
     },
     "metadata": {},
     "output_type": "display_data"
    }
   ],
   "source": [
    "rmse_dict = dict(\n",
    "    noise_std=[],\n",
    "    mask_fraction=[],\n",
    "    rmse=[],\n",
    ")\n",
    "\n",
    "output_files = os.listdir(output_directory)\n",
    "for output in tqdm(output_files):\n",
    "    path_to_file = os.path.join(output_directory, output)\n",
    "    ground_truth = simulations\n",
    "    with h5py.File(path_to_file, \"r\") as file:\n",
    "        ignore_edges = file.attrs[\"ignore_edges\"]\n",
    "        experiment_dir = file.attrs[\"experiment_dir\"]\n",
    "        rmse_dict[\"noise_std\"].append(file.attrs[\"noise_std\"])\n",
    "        rmse_dict[\"mask_fraction\"].append(file.attrs[\"mask_fraction\"])\n",
    "        reconstruction = torch.from_numpy(file[\"reconstruction\"][:])\n",
    "        if ignore_edges:\n",
    "            config = load_hydra_config(experiment_dir)\n",
    "            input_window_extend = config.datamodule.dataset.input_window_extend\n",
    "            ground_truth = simulations[:, input_window_extend:-input_window_extend+1]\n",
    "        avg_rmse = [rmse_func(reconstruction[i], ground_truth[i]) for i in range(reconstruction.size(0))]\n",
    "        avg_rmse = torch.tensor(avg_rmse).mean().item()\n",
    "        rmse_dict[\"rmse\"].append(avg_rmse)\n",
    "        \n",
    "rmse_frame = pd.DataFrame(rmse_dict)"
   ]
  },
  {
   "cell_type": "code",
   "execution_count": 146,
   "id": "2e97b738-7e2c-49e3-b8dc-f19ff53ca577",
   "metadata": {
    "tags": []
   },
   "outputs": [],
   "source": [
    "rmse_frame.sort_values([\"noise_std\", 'mask_fraction'], inplace=True)"
   ]
  },
  {
   "cell_type": "code",
   "execution_count": 147,
   "id": "b317cbec-861e-4671-9500-4203f72258f9",
   "metadata": {
    "tags": []
   },
   "outputs": [
    {
     "data": {
      "text/html": [
       "<div>\n",
       "<style scoped>\n",
       "    .dataframe tbody tr th:only-of-type {\n",
       "        vertical-align: middle;\n",
       "    }\n",
       "\n",
       "    .dataframe tbody tr th {\n",
       "        vertical-align: top;\n",
       "    }\n",
       "\n",
       "    .dataframe thead th {\n",
       "        text-align: right;\n",
       "    }\n",
       "</style>\n",
       "<table border=\"1\" class=\"dataframe\">\n",
       "  <thead>\n",
       "    <tr style=\"text-align: right;\">\n",
       "      <th></th>\n",
       "      <th>noise_std</th>\n",
       "      <th>mask_fraction</th>\n",
       "      <th>rmse</th>\n",
       "    </tr>\n",
       "  </thead>\n",
       "  <tbody>\n",
       "    <tr>\n",
       "      <th>148</th>\n",
       "      <td>0.1</td>\n",
       "      <td>0.100000</td>\n",
       "      <td>0.108536</td>\n",
       "    </tr>\n",
       "    <tr>\n",
       "      <th>220</th>\n",
       "      <td>0.1</td>\n",
       "      <td>0.157143</td>\n",
       "      <td>0.109895</td>\n",
       "    </tr>\n",
       "    <tr>\n",
       "      <th>179</th>\n",
       "      <td>0.1</td>\n",
       "      <td>0.214286</td>\n",
       "      <td>0.111676</td>\n",
       "    </tr>\n",
       "    <tr>\n",
       "      <th>211</th>\n",
       "      <td>0.1</td>\n",
       "      <td>0.271429</td>\n",
       "      <td>0.114225</td>\n",
       "    </tr>\n",
       "    <tr>\n",
       "      <th>16</th>\n",
       "      <td>0.1</td>\n",
       "      <td>0.328571</td>\n",
       "      <td>0.117825</td>\n",
       "    </tr>\n",
       "    <tr>\n",
       "      <th>...</th>\n",
       "      <td>...</td>\n",
       "      <td>...</td>\n",
       "      <td>...</td>\n",
       "    </tr>\n",
       "    <tr>\n",
       "      <th>55</th>\n",
       "      <td>3.0</td>\n",
       "      <td>0.671429</td>\n",
       "      <td>1.646062</td>\n",
       "    </tr>\n",
       "    <tr>\n",
       "      <th>130</th>\n",
       "      <td>3.0</td>\n",
       "      <td>0.728571</td>\n",
       "      <td>1.725175</td>\n",
       "    </tr>\n",
       "    <tr>\n",
       "      <th>105</th>\n",
       "      <td>3.0</td>\n",
       "      <td>0.785714</td>\n",
       "      <td>1.795601</td>\n",
       "    </tr>\n",
       "    <tr>\n",
       "      <th>102</th>\n",
       "      <td>3.0</td>\n",
       "      <td>0.842857</td>\n",
       "      <td>1.900199</td>\n",
       "    </tr>\n",
       "    <tr>\n",
       "      <th>123</th>\n",
       "      <td>3.0</td>\n",
       "      <td>0.900000</td>\n",
       "      <td>2.056777</td>\n",
       "    </tr>\n",
       "  </tbody>\n",
       "</table>\n",
       "<p>225 rows × 3 columns</p>\n",
       "</div>"
      ],
      "text/plain": [
       "     noise_std  mask_fraction      rmse\n",
       "148        0.1       0.100000  0.108536\n",
       "220        0.1       0.157143  0.109895\n",
       "179        0.1       0.214286  0.111676\n",
       "211        0.1       0.271429  0.114225\n",
       "16         0.1       0.328571  0.117825\n",
       "..         ...            ...       ...\n",
       "55         3.0       0.671429  1.646062\n",
       "130        3.0       0.728571  1.725175\n",
       "105        3.0       0.785714  1.795601\n",
       "102        3.0       0.842857  1.900199\n",
       "123        3.0       0.900000  2.056777\n",
       "\n",
       "[225 rows x 3 columns]"
      ]
     },
     "execution_count": 147,
     "metadata": {},
     "output_type": "execute_result"
    }
   ],
   "source": [
    "rmse_frame"
   ]
  },
  {
   "cell_type": "code",
   "execution_count": 148,
   "id": "58966f22-b2f5-448d-b90a-9e705e21972d",
   "metadata": {
    "tags": []
   },
   "outputs": [],
   "source": [
    "noise_std_flatten = rmse_frame.noise_std.values\n",
    "mask_fraction_flatten = rmse_frame.mask_fraction.values\n",
    "rmse_flatten = rmse_frame.rmse.values"
   ]
  },
  {
   "cell_type": "code",
   "execution_count": 149,
   "id": "005b74ad-14f1-4db2-8554-53a4d2b84666",
   "metadata": {
    "tags": []
   },
   "outputs": [],
   "source": [
    "noise_mesh = noise_std_flatten.reshape(mesh_steps, mesh_steps)\n",
    "mask_fracton_mesh = mask_fraction_flatten.reshape(mesh_steps, mesh_steps)\n",
    "rmse_mesh = rmse_flatten.reshape(mesh_steps, mesh_steps)"
   ]
  },
  {
   "cell_type": "code",
   "execution_count": 150,
   "id": "9d00be1b-0706-4e39-bc6b-5c23928cab4f",
   "metadata": {
    "tags": []
   },
   "outputs": [
    {
     "data": {
      "text/plain": [
       "<matplotlib.collections.PathCollection at 0x7efc5fe0d160>"
      ]
     },
     "execution_count": 150,
     "metadata": {},
     "output_type": "execute_result"
    },
    {
     "data": {
      "image/png": "[encoded data removed]",
      "text/plain": [
       "<Figure size 640x480 with 2 Axes>"
      ]
     },
     "metadata": {},
     "output_type": "display_data"
    }
   ],
   "source": [
    "plt.pcolor(mask_fracton_mesh[0, :], noise_mesh[:, 0], rmse_mesh, cmap=\"viridis\")\n",
    "plt.colorbar()\n",
    "plt.scatter(config.datamodule.dataset.mask_fraction, config.datamodule.dataset.additional_noise_std, marker='x')"
   ]
  },
  {
   "cell_type": "code",
   "execution_count": null,
   "id": "16486ba0-c2ab-4bde-b976-53cfc9e36c59",
   "metadata": {
    "tags": []
   },
   "outputs": [],
   "source": []
  }
 ],
 "metadata": {
  "kernelspec": {
   "display_name": "Python 3 (ipykernel)",
   "language": "python",
   "name": "python3"
  },
  "language_info": {
   "codemirror_mode": {
    "name": "ipython",
    "version": 3
   },
   "file_extension": ".py",
   "mimetype": "text/x-python",
   "name": "python",
   "nbconvert_exporter": "python",
   "pygments_lexer": "ipython3",
   "version": "3.9.16"
  }
 },
 "nbformat": 4,
 "nbformat_minor": 5
}

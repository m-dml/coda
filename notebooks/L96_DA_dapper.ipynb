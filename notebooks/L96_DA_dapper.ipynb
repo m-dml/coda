{
 "cells": [
  {
   "cell_type": "code",
   "execution_count": 30,
   "id": "389d480d",
   "metadata": {},
   "outputs": [],
   "source": [
    "import os\n",
    "os.chdir('code/DAPPER')"
   ]
  },
  {
   "cell_type": "code",
   "execution_count": 31,
   "id": "139e8763",
   "metadata": {},
   "outputs": [
    {
     "ename": "ModuleNotFoundError",
     "evalue": "No module named 'mpl_tools'",
     "output_type": "error",
     "traceback": [
      "\u001b[0;31m---------------------------------------------------------------------------\u001b[0m",
      "\u001b[0;31mModuleNotFoundError\u001b[0m                       Traceback (most recent call last)",
      "Cell \u001b[0;32mIn[31], line 1\u001b[0m\n\u001b[0;32m----> 1\u001b[0m \u001b[38;5;28;01mfrom\u001b[39;00m \u001b[38;5;21;01mdapper\u001b[39;00m\u001b[38;5;21;01m.\u001b[39;00m\u001b[38;5;21;01mmods\u001b[39;00m\u001b[38;5;21;01m.\u001b[39;00m\u001b[38;5;21;01mLorenz96\u001b[39;00m \u001b[38;5;28;01mimport\u001b[39;00m dstep_dx, step, x0\n\u001b[1;32m      2\u001b[0m \u001b[38;5;28;01mimport\u001b[39;00m \u001b[38;5;21;01mdapper\u001b[39;00m\u001b[38;5;21;01m.\u001b[39;00m\u001b[38;5;21;01mmods\u001b[39;00m \u001b[38;5;28;01mas\u001b[39;00m \u001b[38;5;21;01mmodelling\u001b[39;00m\n\u001b[1;32m      4\u001b[0m \u001b[38;5;28;01mimport\u001b[39;00m \u001b[38;5;21;01mnumpy\u001b[39;00m \u001b[38;5;28;01mas\u001b[39;00m \u001b[38;5;21;01mnp\u001b[39;00m\n",
      "File \u001b[0;32m/mnt/c/Users/Greenber/code/DAPPER/dapper/__init__.py:10\u001b[0m\n\u001b[1;32m      7\u001b[0m __version__ \u001b[38;5;241m=\u001b[39m \u001b[38;5;124m\"\u001b[39m\u001b[38;5;124m1.6.0\u001b[39m\u001b[38;5;124m\"\u001b[39m\n\u001b[1;32m      9\u001b[0m \u001b[38;5;66;03m# A parsimonious list of imports used in the examples\u001b[39;00m\n\u001b[0;32m---> 10\u001b[0m \u001b[38;5;28;01mfrom\u001b[39;00m \u001b[38;5;21;01m.\u001b[39;00m\u001b[38;5;21;01mdpr_config\u001b[39;00m \u001b[38;5;28;01mimport\u001b[39;00m rc\n\u001b[1;32m     11\u001b[0m \u001b[38;5;28;01mfrom\u001b[39;00m \u001b[38;5;21;01m.\u001b[39;00m\u001b[38;5;21;01mtools\u001b[39;00m\u001b[38;5;21;01m.\u001b[39;00m\u001b[38;5;21;01mdatafiles\u001b[39;00m \u001b[38;5;28;01mimport\u001b[39;00m find_latest_run, load_xps\n\u001b[1;32m     12\u001b[0m \u001b[38;5;28;01mfrom\u001b[39;00m \u001b[38;5;21;01m.\u001b[39;00m\u001b[38;5;21;01mtools\u001b[39;00m\u001b[38;5;21;01m.\u001b[39;00m\u001b[38;5;21;01mrounding\u001b[39;00m \u001b[38;5;28;01mimport\u001b[39;00m round2sigfig\n",
      "File \u001b[0;32m/mnt/c/Users/Greenber/code/DAPPER/dapper/dpr_config.py:13\u001b[0m\n\u001b[1;32m     11\u001b[0m \u001b[38;5;28;01mimport\u001b[39;00m \u001b[38;5;21;01mmatplotlib\u001b[39;00m \u001b[38;5;28;01mas\u001b[39;00m \u001b[38;5;21;01mmpl\u001b[39;00m\n\u001b[1;32m     12\u001b[0m \u001b[38;5;28;01mimport\u001b[39;00m \u001b[38;5;21;01myaml\u001b[39;00m\n\u001b[0;32m---> 13\u001b[0m \u001b[38;5;28;01mfrom\u001b[39;00m \u001b[38;5;21;01mmpl_tools\u001b[39;00m \u001b[38;5;28;01mimport\u001b[39;00m is_using_interactive_backend\n\u001b[1;32m     14\u001b[0m \u001b[38;5;28;01mfrom\u001b[39;00m \u001b[38;5;21;01mstruct_tools\u001b[39;00m \u001b[38;5;28;01mimport\u001b[39;00m DotDict\n\u001b[1;32m     16\u001b[0m \u001b[38;5;66;03m##################################\u001b[39;00m\n\u001b[1;32m     17\u001b[0m \u001b[38;5;66;03m# Load configurations\u001b[39;00m\n\u001b[1;32m     18\u001b[0m \u001b[38;5;66;03m##################################\u001b[39;00m\n",
      "\u001b[0;31mModuleNotFoundError\u001b[0m: No module named 'mpl_tools'"
     ]
    }
   ],
   "source": [
    "from dapper.mods.Lorenz96 import dstep_dx, step, x0\n",
    "import dapper.mods as modelling\n",
    "\n",
    "import numpy as np"
   ]
  },
  {
   "cell_type": "code",
   "execution_count": 3,
   "id": "3fa97346",
   "metadata": {},
   "outputs": [],
   "source": [
    "Nx = 40\n",
    "obs_noise_level = 1.0\n",
    "process_noise = 0.0\n",
    "\n",
    "Force = 8.0\n",
    "Tplot = 10  # half the burn-in time, maybe used for other stuff too?\n",
    "\n",
    "p_obs = 0.75"
   ]
  },
  {
   "cell_type": "code",
   "execution_count": 11,
   "id": "8cb130f9",
   "metadata": {},
   "outputs": [],
   "source": [
    "dt = 0.05\n",
    "dko = 1  # how many simulation time steps between each observation\n",
    "Ko = 1000  # number of pseudoobservations produced by our simulation"
   ]
  },
  {
   "cell_type": "code",
   "execution_count": null,
   "id": "51355f6a",
   "metadata": {},
   "outputs": [],
   "source": [
    "x0 = x0(Nx)\n",
    "\n",
    "Dyn = {\n",
    "    'M': Nx,\n",
    "    'model': step,  # time stepping function\n",
    "    'linear': dstep_dx,  # jacobian of time stepping function\n",
    "    'noise': process_noise,\n",
    "}\n",
    "\n",
    "tseq = modelling.Chronology(dt=dt, dko=dko, Ko=Ko, Tplot=Tplot, BurnIn=2*Tplot)"
   ]
  },
  {
   "cell_type": "code",
   "execution_count": 23,
   "id": "f3a2b424",
   "metadata": {},
   "outputs": [],
   "source": [
    "mask_array = np.random.rand(Nx, Ko) <= p_obs\n",
    "\n",
    "def Obs(ko):\n",
    "    jj = np.flatnonzero(mask_array[:, ko])\n",
    "    obs = modelling.Operator(**modelining.partial_ID_Obs(Nx, jj), noise=obs_noise_level)\n",
    "    return obs"
   ]
  },
  {
   "cell_type": "code",
   "execution_count": 24,
   "id": "f456f350",
   "metadata": {},
   "outputs": [
    {
     "ename": "NameError",
     "evalue": "name 'modelling' is not defined",
     "output_type": "error",
     "traceback": [
      "\u001b[0;31m---------------------------------------------------------------------------\u001b[0m",
      "\u001b[0;31mNameError\u001b[0m                                 Traceback (most recent call last)",
      "Cell \u001b[0;32mIn[24], line 1\u001b[0m\n\u001b[0;32m----> 1\u001b[0m Obs(\u001b[38;5;241m0\u001b[39m)\n",
      "Cell \u001b[0;32mIn[23], line 5\u001b[0m, in \u001b[0;36mObs\u001b[0;34m(ko)\u001b[0m\n\u001b[1;32m      3\u001b[0m \u001b[38;5;28;01mdef\u001b[39;00m \u001b[38;5;21mObs\u001b[39m(ko):\n\u001b[1;32m      4\u001b[0m     jj \u001b[38;5;241m=\u001b[39m np\u001b[38;5;241m.\u001b[39mflatnonzero(mask_array[:, ko])\n\u001b[0;32m----> 5\u001b[0m     obs \u001b[38;5;241m=\u001b[39m modelling\u001b[38;5;241m.\u001b[39mOperator(\u001b[38;5;241m*\u001b[39m\u001b[38;5;241m*\u001b[39mmodelining\u001b[38;5;241m.\u001b[39mpartial_ID_Obs(Nx, jj), noise\u001b[38;5;241m=\u001b[39mobs_noise_level)\n\u001b[1;32m      6\u001b[0m     \u001b[38;5;28;01mreturn\u001b[39;00m obs\n",
      "\u001b[0;31mNameError\u001b[0m: name 'modelling' is not defined"
     ]
    }
   ],
   "source": [
    "Obs(0)"
   ]
  },
  {
   "cell_type": "code",
   "execution_count": null,
   "id": "ea91e072",
   "metadata": {},
   "outputs": [],
   "source": [
    "X0 = modelling.GaussRV(mu=x0, C=0.001)"
   ]
  },
  {
   "cell_type": "code",
   "execution_count": null,
   "id": "85427d92",
   "metadata": {},
   "outputs": [],
   "source": [
    "HMM = modelling.HiddenMarkovModel(Dyn, Obs, tseq, X0)"
   ]
  }
 ],
 "metadata": {
  "kernelspec": {
   "display_name": "Python 3 (ipykernel)",
   "language": "python",
   "name": "python3"
  },
  "language_info": {
   "codemirror_mode": {
    "name": "ipython",
    "version": 3
   },
   "file_extension": ".py",
   "mimetype": "text/x-python",
   "name": "python",
   "nbconvert_exporter": "python",
   "pygments_lexer": "ipython3",
   "version": "3.11.5"
  }
 },
 "nbformat": 4,
 "nbformat_minor": 5
}

{
 "cells": [
  {
   "cell_type": "code",
   "execution_count": null,
   "id": "389d480d",
   "metadata": {},
   "outputs": [],
   "source": [
    "import os\n",
    "os.chdir('code/DAPPER')"
   ]
  },
  {
   "cell_type": "code",
   "execution_count": null,
   "id": "139e8763",
   "metadata": {},
   "outputs": [],
   "source": [
    "from dapper.mods.Lorenz96 import dstep_dx, step, x0\n",
    "import dapper.mods as modelling\n",
    "import dapper as dpr\n",
    "import dapper.da_methods as da\n",
    "import numpy as np"
   ]
  },
  {
   "cell_type": "code",
   "execution_count": null,
   "id": "3fa97346",
   "metadata": {},
   "outputs": [],
   "source": [
    "Nx = 40\n",
    "obs_noise_level = 1.0\n",
    "process_noise = 0.0\n",
    "\n",
    "Force = 8.0\n",
    "Tplot = 10  # half the burn-in time, maybe used for other stuff too?\n",
    "\n",
    "p_obs = 0.75"
   ]
  },
  {
   "cell_type": "code",
   "execution_count": null,
   "id": "8cb130f9",
   "metadata": {},
   "outputs": [],
   "source": [
    "dt = 0.05\n",
    "dko = 1  # how many simulation time steps between each observation\n",
    "Ko = 1000  # number of pseudoobservations produced by our simulation"
   ]
  },
  {
   "cell_type": "code",
   "execution_count": null,
   "id": "51355f6a",
   "metadata": {},
   "outputs": [],
   "source": [
    "x0 = x0(Nx)\n",
    "\n",
    "Dyn = {\n",
    "    'M': Nx,\n",
    "    'model': step,  # time stepping function\n",
    "    'linear': dstep_dx,  # jacobian of time stepping function\n",
    "    'noise': process_noise,\n",
    "}\n",
    "\n",
    "tseq = modelling.Chronology(dt=dt, dko=dko, Ko=Ko, Tplot=Tplot, BurnIn=2*Tplot)"
   ]
  },
  {
   "cell_type": "code",
   "execution_count": null,
   "id": "f3a2b424",
   "metadata": {},
   "outputs": [],
   "source": [
    "mask_array = np.random.rand(Nx, Ko) <= p_obs\n",
    "\n",
    "def Obs(ko):\n",
    "    jj = np.flatnonzero(mask_array[:, ko])\n",
    "    obs = modelling.Operator(**modelining.partial_ID_Obs(Nx, jj), noise=obs_noise_level)\n",
    "    return obs"
   ]
  },
  {
   "cell_type": "code",
   "execution_count": null,
   "id": "f456f350",
   "metadata": {},
   "outputs": [],
   "source": [
    "Obs(0)"
   ]
  },
  {
   "cell_type": "code",
   "execution_count": null,
   "id": "ea91e072",
   "metadata": {},
   "outputs": [],
   "source": [
    "X0 = modelling.GaussRV(mu=x0, C=0.001)"
   ]
  },
  {
   "cell_type": "code",
   "execution_count": null,
   "id": "d69cc7d0",
   "metadata": {},
   "outputs": [],
   "source": [
    "HMM = modelling.HiddenMarkovModel(Dyn, Obs, tseq, X0)"
   ]
  },
  {
   "cell_type": "code",
   "execution_count": null,
   "id": "49c48677",
   "metadata": {},
   "outputs": [],
   "source": [
    "# #### Run experiment\n",
    "\n",
    "dpr.set_seed(3000)\n",
    "xx, yy = HMM.simulate()"
   ]
  },
  {
   "cell_type": "code",
   "execution_count": null,
   "id": "6f51fe75",
   "metadata": {},
   "outputs": [],
   "source": [
    "xp = da.EnKF('Sqrt', N=20, infl=1.02, rot=True)\n",
    "xp.assimilate(HMM, xx, yy, liveplots=True)"
   ]
  },
  {
   "cell_type": "code",
   "execution_count": null,
   "id": "85427d92",
   "metadata": {},
   "outputs": [],
   "source": [
    "# print(xp.stats)  # ⇒ long printout\n",
    "xp.stats.average_in_time()\n",
    "# print(xp.avrgs)  # ⇒ long printout\n",
    "print(xp.avrgs.tabulate([\"rmse.a\", \"rmse.slow.a\", \"rmse.fast.a\"]))"
   ]
  }
 ],
 "metadata": {
  "kernelspec": {
   "display_name": "Python 3 (ipykernel)",
   "language": "python",
   "name": "python3"
  },
  "language_info": {
   "codemirror_mode": {
    "name": "ipython",
    "version": 3
   },
   "file_extension": ".py",
   "mimetype": "text/x-python",
   "name": "python",
   "nbconvert_exporter": "python",
   "pygments_lexer": "ipython3",
   "version": "3.11.5"
  }
 },
 "nbformat": 4,
 "nbformat_minor": 5
}

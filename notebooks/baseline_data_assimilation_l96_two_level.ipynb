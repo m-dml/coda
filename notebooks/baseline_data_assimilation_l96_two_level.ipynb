{
 "cells": [
  {
   "cell_type": "code",
   "execution_count": 57,
   "id": "initial_id",
   "metadata": {
    "ExecuteTime": {
     "end_time": "2024-06-20T09:19:38.388719Z",
     "start_time": "2024-06-20T09:19:38.378125Z"
    },
    "collapsed": true
   },
   "outputs": [],
   "source": [
    "import sys\n",
    "sys.path.append(\"..\")\n",
    "\n",
    "from tqdm import tqdm\n",
    "from dapper.mods.Lorenz96 import dstep_dx, step, x0\n",
    "import dapper.mods as modelling\n",
    "import dapper as dpr\n",
    "import dapper.da_methods as da\n",
    "import numpy as np\n",
    "import torch\n",
    "import matplotlib.pyplot as plt\n",
    "import seaborn as sns\n",
    "import pandas as pd\n",
    "from hpl.datamodule.observational_models import RandomObservationModel\n",
    "from hpl.datamodule.DataLoader import L96InferenceDataset\n",
    "from mdml_tools.simulators import L96Simulator\n",
    "from torch.utils.data import DataLoader"
   ]
  },
  {
   "cell_type": "code",
   "execution_count": 19,
   "id": "976b09f3c4762cfd",
   "metadata": {
    "ExecuteTime": {
     "end_time": "2024-06-20T09:09:11.597187Z",
     "start_time": "2024-06-20T09:09:11.587571Z"
    }
   },
   "outputs": [],
   "source": [
    "random_seed: int = 261197\n",
    "\n",
    "\n",
    "grid_size: int = 36\n",
    "forcing: float = 10.0\n",
    "process_noise: float = 0.0\n",
    "time_step: float = 0.01\n",
    "\n",
    "observation_noise: float = 1.0\n",
    "mask_fraction: float = 0.75\n",
    "steps_between_observation: int = 1\n",
    "number_of_observations: int = 2000\n",
    "number_of_steps_to_cut: int = 500\n",
    "\n",
    "device = \"cpu\"\n",
    "pretrained_network_checkpoint = \"/gpfs/work/zinchenk/final_experiments/140424_imperfect_forward_operator/pretrain_data_assimilation/multirun/2024-03-14/03-19-59/0/logs/checkpoints/assimilation_network.ckpt\"\n",
    "trained_network_checkpoint = \"/gpfs/work/zinchenk/final_experiments/300424_parametrization_learning/parametrization_learning/multirun/2024-04-30/13-17-52/0/logs/checkpoints/assimilation_network.ckpt\"\n",
    "# path to simulator checkpoint with coupled parametrization\n",
    "simulator_checkpoint = \"/gpfs/work/zinchenk/final_experiments/300424_parametrization_learning/parametrization_learning/multirun/2024-04-30/13-17-52/0/logs/checkpoints/simulator.ckpt\""
   ]
  },
  {
   "cell_type": "code",
   "execution_count": 20,
   "id": "987812e2dca663ee",
   "metadata": {
    "ExecuteTime": {
     "end_time": "2024-06-20T09:09:12.390224Z",
     "start_time": "2024-06-20T09:09:12.380595Z"
    }
   },
   "outputs": [
    {
     "data": {
      "text/plain": [
       "<torch._C.Generator at 0x7f36168ca070>"
      ]
     },
     "execution_count": 20,
     "metadata": {},
     "output_type": "execute_result"
    }
   ],
   "source": [
    "np.random.seed(random_seed)\n",
    "torch.manual_seed(random_seed)"
   ]
  },
  {
   "cell_type": "code",
   "execution_count": 21,
   "id": "bc3325aae7754de3",
   "metadata": {
    "ExecuteTime": {
     "end_time": "2024-06-20T09:09:12.862386Z",
     "start_time": "2024-06-20T09:09:12.806841Z"
    }
   },
   "outputs": [],
   "source": [
    "pretrained_network = torch.load(pretrained_network_checkpoint, map_location=device)\n",
    "trained_network = torch.load(trained_network_checkpoint, map_location=device)\n",
    "simulator = torch.load(simulator_checkpoint, map_location=device)\n",
    "parametrization = simulator.parametrization"
   ]
  },
  {
   "cell_type": "code",
   "execution_count": 41,
   "id": "7aa07c3eb41b5516",
   "metadata": {
    "ExecuteTime": {
     "end_time": "2024-06-20T09:13:45.289302Z",
     "start_time": "2024-06-20T09:13:43.063549Z"
    }
   },
   "outputs": [],
   "source": [
    "initial_state_X = x = forcing * (0.5 + torch.randn(torch.Size((1, 1, grid_size)), device=\"cpu\") * 1.0)\n",
    "initial_state_y = forcing * (0.5 + torch.randn(torch.Size((1, 1, grid_size, 10)), device=\"cpu\") * 1.0)\n",
    "initial_state_X /= torch.max(torch.tensor([10, 50]))\n",
    "initial_state_y /= torch.max(torch.tensor([10, 50]))\n",
    "\n",
    "simulator = L96Simulator(simulator_type='two_level', forcing=forcing)\n",
    "time_to_simulate = torch.arange(0, (number_of_observations+number_of_steps_to_cut)*time_step, time_step, device='cpu', dtype=torch.float32)\n",
    "ground_truth, _ = simulator.integrate(time_to_simulate, (initial_state_X, initial_state_y))\n",
    "ground_truth = ground_truth.squeeze()[number_of_steps_to_cut:, :]"
   ]
  },
  {
   "cell_type": "code",
   "execution_count": 67,
   "id": "1ab9c63a5d88b9e0",
   "metadata": {
    "ExecuteTime": {
     "end_time": "2024-06-20T09:23:02.431563Z",
     "start_time": "2024-06-20T09:23:02.402710Z"
    }
   },
   "outputs": [],
   "source": [
    "observation_operator = RandomObservationModel(\n",
    "    additional_noise_std=observation_noise, \n",
    "    random_mask_fraction=mask_fraction,\n",
    ")\n",
    "\n",
    "dataset = L96InferenceDataset(\n",
    "    ground_truth_data=ground_truth.unsqueeze(0).to(\"cpu\"),\n",
    "    observation_model=observation_operator,\n",
    "    input_window_extend=25,\n",
    "    drop_edge_samples=True,\n",
    ")\n",
    "dataset.to(device)\n",
    "\n",
    "loader = DataLoader(dataset, batch_size=number_of_observations, shuffle=False)"
   ]
  },
  {
   "cell_type": "code",
   "execution_count": 66,
   "id": "c13fdda42cc352d0",
   "metadata": {
    "ExecuteTime": {
     "end_time": "2024-06-20T09:21:51.521448Z",
     "start_time": "2024-06-20T09:21:50.425723Z"
    }
   },
   "outputs": [
    {
     "name": "stderr",
     "output_type": "stream",
     "text": [
      "100%|███████████████████████████████████████████| 1/1 [00:01<00:00,  1.08s/it]\n"
     ]
    }
   ],
   "source": [
    "reconstruction = {}\n",
    "for batch in tqdm(loader):\n",
    "    with torch.no_grad():\n",
    "        analysis = pretrained_network.forward(batch)\n",
    "        reconstruction[\"no_param\"] = analysis.squeeze()\n",
    "        analysis = trained_network.forward(batch)\n",
    "        reconstruction[\"param\"] = analysis.squeeze()"
   ]
  },
  {
   "cell_type": "code",
   "execution_count": 68,
   "id": "f83b0711a0b819ea",
   "metadata": {
    "ExecuteTime": {
     "end_time": "2024-06-20T09:23:14.579581Z",
     "start_time": "2024-06-20T09:23:14.573037Z"
    }
   },
   "outputs": [],
   "source": [
    "Nx = grid_size\n",
    "Force = forcing\n",
    "x_initial = x0(grid_size)\n",
    "dynamical_operator = {\n",
    "    'M': Nx,\n",
    "    'model': step,\n",
    "    'linear': dstep_dx,\n",
    "    'noise': process_noise,\n",
    "}\n",
    "\n",
    "tseq = modelling.Chronology(dt=time_step, dko=steps_between_observation, Ko=number_of_observations, Tplot=0, BurnIn=5)\n",
    "\n",
    "initial_state_X = x = forcing * (0.5 + torch.randn(torch.Size((1, 1, grid_size)), device=\"cpu\") * 1.0)\n",
    "initial_state_y = forcing * (0.5 + torch.randn(torch.Size((1, 1, grid_size, 10)), device=\"cpu\") * 1.0)\n",
    "initial_state_X /= torch.max(torch.tensor([10, 50]))\n",
    "initial_state_y /= torch.max(torch.tensor([10, 50]))\n",
    "\n",
    "simulator = L96Simulator(simulator_type='two_level', forcing=forcing)\n",
    "time_to_simulate = torch.arange(0, (number_of_observations+2)*time_step, time_step, device='cpu', dtype=torch.float32)\n",
    "xx, _ = simulator.integrate(time_to_simulate, (initial_state_X, initial_state_y))\n",
    "xx = xx.squeeze()\n",
    "\n",
    "obs_mod = RandomObservationModel(additional_noise_std=observation_noise, random_mask_fraction=mask_fraction)\n",
    "observations, mask_array = obs_mod.forward(xx)\n",
    "xx = xx.numpy()\n",
    "observations = observations.numpy()\n",
    "mask_array = np.array(mask_array.numpy(), dtype=bool)\n",
    "mask_array = mask_array[1:]\n",
    "observations = observations[1:]\n",
    "\n",
    "yy = [observations[i, mask_array[i]] for i in range(observations.shape[0])]\n",
    "yy = np.array(yy)\n",
    "\n",
    "def observation_operator_dapper(t):\n",
    "    jj = np.flatnonzero(mask_array[t])\n",
    "    obs = modelling.Operator(**modelling.partial_Id_Obs(grid_size, jj), noise=observation_noise)\n",
    "    return obs\n",
    "\n",
    "X0 = modelling.GaussRV(mu=x_initial, C=10)\n",
    "HMM = modelling.HiddenMarkovModel(dynamical_operator, dict(time_dependent=observation_operator_dapper), tseq, X0)\n",
    "\n",
    "xps = da.OptInterp()\n",
    "xps.assimilate(HMM, xx, yy)\n",
    "optimal_interpolation = xps.stats.mu.a\n",
    "\n",
    "xps = da.Persistence()\n",
    "xps.assimilate(HMM, xx, yy)\n",
    "persistence = xps.stats.mu.a\n",
    "\n",
    "xps = da.EnKS(upd_a=\"PertObs\", N=100, Lag=25)\n",
    "xps.assimilate(HMM, xx, yy)\n",
    "enks_perturb_obs = xps.stats.mu.a\n"
   ]
  },
  {
   "cell_type": "code",
   "execution_count": null,
   "id": "178207f192de3dc8",
   "metadata": {},
   "outputs": [],
   "source": []
  }
 ],
 "metadata": {
  "kernelspec": {
   "display_name": "Python 3",
   "language": "python",
   "name": "python3"
  },
  "language_info": {
   "codemirror_mode": {
    "name": "ipython",
    "version": 2
   },
   "file_extension": ".py",
   "mimetype": "text/x-python",
   "name": "python",
   "nbconvert_exporter": "python",
   "pygments_lexer": "ipython2",
   "version": "2.7.6"
  }
 },
 "nbformat": 4,
 "nbformat_minor": 5
}

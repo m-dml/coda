{
 "cells": [
  {
   "cell_type": "code",
   "execution_count": 1,
   "id": "3adb1426-42eb-42a0-b9a3-885e9620cecf",
   "metadata": {
    "ExecuteTime": {
     "end_time": "2024-04-30T16:02:04.933137Z",
     "start_time": "2024-04-30T16:02:01.881393Z"
    }
   },
   "outputs": [],
   "source": [
    "import pickle\n",
    "import sys\n",
    "import os\n",
    "sys.path.append(\"..\")\n",
    "from copy import deepcopy\n",
    "\n",
    "from tqdm import tqdm\n",
    "import h5py\n",
    "\n",
    "import torch\n",
    "import pytorch_lightning as pl\n",
    "import pandas as pd\n",
    "\n",
    "import matplotlib.pyplot as plt\n",
    "from joblib import Parallel, delayed\n",
    "from argparse import Namespace\n",
    "from datetime import datetime\n",
    "from torchmetrics import MeanSquaredError"
   ]
  },
  {
   "cell_type": "code",
   "execution_count": 4,
   "id": "8a9b5747-b794-40a4-a2da-8f18b92933a1",
   "metadata": {
    "ExecuteTime": {
     "end_time": "2024-04-30T09:57:19.451197Z",
     "start_time": "2024-04-30T09:57:19.002392Z"
    }
   },
   "outputs": [],
   "source": [
    "from hpl.utils.postprocessing import (\n",
    "    find_experiments_directories, \n",
    "    load_data_assimilation_network, \n",
    "    load_hydra_config,\n",
    "    dictconfig_to_dataframe,\n",
    "    reconstruct_observations,\n",
    ")\n",
    "from hpl.datamodule.DataLoader import L96InferenceDataset\n",
    "from hpl.datamodule.observational_models import RandomObservationModel\n",
    "from hpl.scripts.test_data_assimilation_encoder import mesh_test_single_model"
   ]
  },
  {
   "cell_type": "markdown",
   "id": "a7c2fc77e886c740",
   "metadata": {},
   "source": [
    "# Find best weak and strong constraint models"
   ]
  },
  {
   "cell_type": "code",
   "execution_count": 5,
   "id": "2ac69150-9bb7-48a5-894c-40aabd00ac4e",
   "metadata": {
    "ExecuteTime": {
     "end_time": "2024-04-30T09:57:19.470050Z",
     "start_time": "2024-04-30T09:57:19.453412Z"
    }
   },
   "outputs": [],
   "source": [
    "base_dir = \"/gpfs/work/zinchenk/final_experiments/120324_try_batch_norm/\"\n",
    "test_data_path = \"/gpfs/home/zinchenk/dev/hidden-process-learning/data/test/lorenz-one_level-grid_40-forcing_8.0-dt_0.01-rk4.h5\"\n",
    "random_seed = 2510\n",
    "device = \"cuda\" if torch.cuda.is_available() else \"cpu\""
   ]
  },
  {
   "cell_type": "code",
   "execution_count": 6,
   "id": "3d9dacfa-3d67-4301-9bd7-36b520569eb7",
   "metadata": {
    "ExecuteTime": {
     "end_time": "2024-04-30T09:57:20.362843Z",
     "start_time": "2024-04-30T09:57:19.472484Z"
    }
   },
   "outputs": [],
   "source": [
    "with h5py.File(test_data_path) as file:\n",
    "    test_simulations = torch.from_numpy(file[\"first_level\"][:]).to(device)"
   ]
  },
  {
   "cell_type": "code",
   "execution_count": 7,
   "id": "2f711d33-ac64-49fc-a921-13e2dba1b227",
   "metadata": {
    "ExecuteTime": {
     "end_time": "2024-04-30T09:57:20.380272Z",
     "start_time": "2024-04-30T09:57:20.365216Z"
    }
   },
   "outputs": [],
   "source": [
    "hyda_experiments = find_experiments_directories([base_dir])"
   ]
  },
  {
   "cell_type": "code",
   "execution_count": 64,
   "id": "6911fa3f-5f77-4a4c-af30-27e8b0043f86",
   "metadata": {
    "ExecuteTime": {
     "end_time": "2024-04-30T09:36:35.251305Z",
     "start_time": "2024-04-30T09:36:35.246415Z"
    }
   },
   "outputs": [],
   "source": [
    "# def reconstruct_observations(dataset, assimilation_network, verbose=False):\n",
    "#     reconstractions = []\n",
    "#     iterator = tqdm(dataset) if verbose else dataset\n",
    "#     with torch.no_grad():\n",
    "#         for batch in iterator:\n",
    "#             reconstructed_state = assimilation_network.forward(batch)\n",
    "#             reconstractions.append(reconstructed_state)\n",
    "#     reconstractions = torch.stack(reconstractions, dim=-2).squeeze()\n",
    "#     return reconstractions"
   ]
  },
  {
   "cell_type": "code",
   "execution_count": 65,
   "id": "2a9f1a95-2685-4e77-a67c-fc79742646cb",
   "metadata": {
    "ExecuteTime": {
     "end_time": "2024-04-30T09:36:35.617650Z",
     "start_time": "2024-04-30T09:36:35.601852Z"
    }
   },
   "outputs": [],
   "source": [
    "def main(hydra_experiment: str, device: str):\n",
    "    assimilation_network = load_data_assimilation_network(hydra_experiment, device=device)\n",
    "    config = load_hydra_config(hydra_experiment)\n",
    "    results_frame = dictconfig_to_dataframe(config)\n",
    "    results_frame.insert(0, \"experiment_dir\", hydra_experiment, False)\n",
    "    \n",
    "    torch.manual_seed(random_seed)\n",
    "    pl.seed_everything(random_seed)\n",
    "\n",
    "    observational_model = RandomObservationModel(\n",
    "        additional_noise_std=config.datamodule.dataset.additional_noise_std,\n",
    "        random_mask_fraction=config.datamodule.dataset.random_mask_fraction,\n",
    "    )\n",
    "    dataset = L96InferenceDataset(\n",
    "        ground_truth_data=test_simulations,\n",
    "        observation_model=observational_model,\n",
    "        input_window_extend=config.input_window_extend,\n",
    "        drop_edge_samples=True,\n",
    "    )\n",
    "    \n",
    "    reconstructions = reconstruct_observations(dataset, assimilation_network)\n",
    "    ground_truth = dataset.ground_truth[:, config.input_window_extend:-config.input_window_extend+1]\n",
    "    squered_errors = (reconstructions - ground_truth)**2\n",
    "    rmse_per_test_case = squered_errors.mean((-1, -2)).sqrt()\n",
    "    \n",
    "    results_frame.insert(0, \"min_rmse\", rmse_per_test_case.min().cpu().item(), False)\n",
    "    results_frame.insert(0, \"max_rmse\", rmse_per_test_case.max().cpu().item(), False)\n",
    "    results_frame.insert(0, \"mean_rmse\", rmse_per_test_case.mean().cpu().item(), False)\n",
    "    results_frame.insert(0, \"std_rmse\", rmse_per_test_case.std().cpu().item(), False)\n",
    "       \n",
    "    return results_frame"
   ]
  },
  {
   "cell_type": "code",
   "execution_count": 66,
   "id": "9c8b2c2b-744b-430d-966c-ff6c771e5084",
   "metadata": {
    "ExecuteTime": {
     "end_time": "2024-04-30T09:49:20.155837Z",
     "start_time": "2024-04-30T09:36:36.449739Z"
    }
   },
   "outputs": [
    {
     "name": "stderr",
     "output_type": "stream",
     "text": [
      "  0%|                                                                                                                                  | 0/42 [00:00<?, ?it/s]Global seed set to 2510\n",
      "  2%|██▉                                                                                                                       | 1/42 [00:14<09:56, 14.55s/it]Global seed set to 2510\n",
      "  5%|█████▊                                                                                                                    | 2/42 [00:28<09:33, 14.35s/it]Global seed set to 2510\n",
      "  7%|████████▋                                                                                                                 | 3/42 [00:42<09:17, 14.28s/it]Global seed set to 2510\n",
      " 10%|███████████▌                                                                                                              | 4/42 [00:57<09:02, 14.29s/it]Global seed set to 2510\n",
      " 12%|██████████████▌                                                                                                           | 5/42 [01:11<08:48, 14.29s/it]Global seed set to 2510\n",
      " 14%|█████████████████▍                                                                                                        | 6/42 [01:25<08:33, 14.28s/it]Global seed set to 2510\n",
      " 17%|████████████████████▎                                                                                                     | 7/42 [01:40<08:23, 14.39s/it]Global seed set to 2510\n",
      " 19%|███████████████████████▏                                                                                                  | 8/42 [01:54<08:08, 14.37s/it]Global seed set to 2510\n",
      " 21%|██████████████████████████▏                                                                                               | 9/42 [02:09<07:53, 14.35s/it]Global seed set to 2510\n",
      " 24%|████████████████████████████▊                                                                                            | 10/42 [02:23<07:38, 14.32s/it]Global seed set to 2510\n",
      " 26%|███████████████████████████████▋                                                                                         | 11/42 [02:37<07:23, 14.29s/it]Global seed set to 2510\n",
      " 29%|██████████████████████████████████▌                                                                                      | 12/42 [02:51<07:08, 14.28s/it]Global seed set to 2510\n",
      " 31%|█████████████████████████████████████▍                                                                                   | 13/42 [03:06<06:54, 14.29s/it]Global seed set to 2510\n",
      " 33%|████████████████████████████████████████▎                                                                                | 14/42 [03:20<06:40, 14.29s/it]Global seed set to 2510\n",
      " 36%|███████████████████████████████████████████▏                                                                             | 15/42 [03:46<08:01, 17.82s/it]Global seed set to 2510\n",
      " 38%|██████████████████████████████████████████████                                                                           | 16/42 [04:12<08:47, 20.27s/it]Global seed set to 2510\n",
      " 40%|████████████████████████████████████████████████▉                                                                        | 17/42 [04:38<09:08, 21.95s/it]Global seed set to 2510\n",
      " 43%|███████████████████████████████████████████████████▊                                                                     | 18/42 [05:04<09:15, 23.15s/it]Global seed set to 2510\n",
      " 45%|██████████████████████████████████████████████████████▋                                                                  | 19/42 [05:30<09:12, 24.01s/it]Global seed set to 2510\n",
      " 48%|█████████████████████████████████████████████████████████▌                                                               | 20/42 [05:56<09:00, 24.58s/it]Global seed set to 2510\n",
      " 50%|████████████████████████████████████████████████████████████▌                                                            | 21/42 [06:22<08:45, 25.01s/it]Global seed set to 2510\n",
      " 52%|███████████████████████████████████████████████████████████████▍                                                         | 22/42 [06:47<08:25, 25.28s/it]Global seed set to 2510\n",
      " 55%|██████████████████████████████████████████████████████████████████▎                                                      | 23/42 [07:13<08:03, 25.47s/it]Global seed set to 2510\n",
      " 57%|█████████████████████████████████████████████████████████████████████▏                                                   | 24/42 [07:39<07:40, 25.59s/it]Global seed set to 2510\n",
      " 60%|████████████████████████████████████████████████████████████████████████                                                 | 25/42 [08:05<07:16, 25.70s/it]Global seed set to 2510\n",
      " 62%|██████████████████████████████████████████████████████████████████████████▉                                              | 26/42 [08:31<06:52, 25.77s/it]Global seed set to 2510\n",
      " 64%|█████████████████████████████████████████████████████████████████████████████▊                                           | 27/42 [08:57<06:27, 25.81s/it]Global seed set to 2510\n",
      " 67%|████████████████████████████████████████████████████████████████████████████████▋                                        | 28/42 [09:23<06:01, 25.84s/it]Global seed set to 2510\n",
      " 69%|███████████████████████████████████████████████████████████████████████████████████▌                                     | 29/42 [09:37<04:50, 22.37s/it]Global seed set to 2510\n",
      " 71%|██████████████████████████████████████████████████████████████████████████████████████▍                                  | 30/42 [09:52<03:59, 19.94s/it]Global seed set to 2510\n",
      " 74%|█████████████████████████████████████████████████████████████████████████████████████████▎                               | 31/42 [10:06<03:20, 18.27s/it]Global seed set to 2510\n",
      " 76%|████████████████████████████████████████████████████████████████████████████████████████████▏                            | 32/42 [10:20<02:50, 17.08s/it]Global seed set to 2510\n",
      " 79%|███████████████████████████████████████████████████████████████████████████████████████████████                          | 33/42 [10:34<02:26, 16.24s/it]Global seed set to 2510\n",
      " 81%|█████████████████████████████████████████████████████████████████████████████████████████████████▉                       | 34/42 [10:49<02:05, 15.68s/it]Global seed set to 2510\n",
      " 83%|████████████████████████████████████████████████████████████████████████████████████████████████████▊                    | 35/42 [11:03<01:46, 15.27s/it]Global seed set to 2510\n",
      " 86%|███████████████████████████████████████████████████████████████████████████████████████████████████████▋                 | 36/42 [11:17<01:29, 14.98s/it]Global seed set to 2510\n",
      " 88%|██████████████████████████████████████████████████████████████████████████████████████████████████████████▌              | 37/42 [11:32<01:13, 14.77s/it]Global seed set to 2510\n",
      " 90%|█████████████████████████████████████████████████████████████████████████████████████████████████████████████▍           | 38/42 [11:46<00:58, 14.61s/it]Global seed set to 2510\n",
      " 93%|████████████████████████████████████████████████████████████████████████████████████████████████████████████████▎        | 39/42 [12:00<00:43, 14.53s/it]Global seed set to 2510\n",
      " 95%|███████████████████████████████████████████████████████████████████████████████████████████████████████████████████▏     | 40/42 [12:15<00:28, 14.45s/it]Global seed set to 2510\n",
      " 98%|██████████████████████████████████████████████████████████████████████████████████████████████████████████████████████   | 41/42 [12:29<00:14, 14.42s/it]Global seed set to 2510\n",
      "100%|█████████████████████████████████████████████████████████████████████████████████████████████████████████████████████████| 42/42 [12:43<00:00, 18.18s/it]\n"
     ]
    }
   ],
   "source": [
    "results = []\n",
    "for experiment in tqdm(hyda_experiments):\n",
    "    res = main(experiment, device)\n",
    "    results.append(res)"
   ]
  },
  {
   "cell_type": "code",
   "execution_count": 67,
   "id": "e2a98e10-8d44-46f0-9802-12022df689db",
   "metadata": {
    "ExecuteTime": {
     "end_time": "2024-04-30T09:49:23.499742Z",
     "start_time": "2024-04-30T09:49:22.707541Z"
    }
   },
   "outputs": [],
   "source": [
    "df = pd.concat(results, ignore_index=True)\n",
    "df.to_pickle(\"different_alpha_values_plot\")"
   ]
  },
  {
   "cell_type": "code",
   "execution_count": 8,
   "id": "71cfd9aa-4be5-421b-a05a-9aae1a184e13",
   "metadata": {
    "ExecuteTime": {
     "end_time": "2024-04-30T09:57:24.073763Z",
     "start_time": "2024-04-30T09:57:23.824022Z"
    }
   },
   "outputs": [],
   "source": [
    "df = pickle.load(open(\"different_alpha_values_plot\", \"rb\"))"
   ]
  },
  {
   "cell_type": "code",
   "execution_count": 9,
   "id": "88c89634-16c3-4589-a3ed-6122ee3a4316",
   "metadata": {
    "ExecuteTime": {
     "end_time": "2024-04-30T09:57:24.355770Z",
     "start_time": "2024-04-30T09:57:24.340096Z"
    }
   },
   "outputs": [
    {
     "data": {
      "text/plain": [
       "array([ 1, 25, 10])"
      ]
     },
     "execution_count": 9,
     "metadata": {},
     "output_type": "execute_result"
    }
   ],
   "source": [
    "df.rollout_length.unique()"
   ]
  },
  {
   "cell_type": "code",
   "execution_count": 10,
   "id": "77cc22fb-6389-458d-95b3-f3de9d8569a6",
   "metadata": {
    "ExecuteTime": {
     "end_time": "2024-04-30T09:57:25.556361Z",
     "start_time": "2024-04-30T09:57:25.027768Z"
    }
   },
   "outputs": [
    {
     "data": {
      "image/png": "[encoded data removed]",
      "text/plain": [
       "<Figure size 500x300 with 1 Axes>"
      ]
     },
     "metadata": {},
     "output_type": "display_data"
    }
   ],
   "source": [
    "fig, ax = plt.subplots(1, 1, figsize=(5, 3))\n",
    "\n",
    "df[(df.rollout_length == 1) & (df.loss_alpha > 0)].sort_values(\"loss_alpha\").plot(\n",
    "    x=\"loss_alpha\", \n",
    "    y=\"mean_rmse\", \n",
    "    label=\"1 & 10\",\n",
    "    marker=\"o\",\n",
    "    ms=3,\n",
    "    ax=ax, \n",
    ")\n",
    "df[df.rollout_length == 10].sort_values(\"loss_alpha\").plot(\n",
    "    x=\"loss_alpha\", \n",
    "    y=\"mean_rmse\", \n",
    "    label=\"10 & 10\", \n",
    "    marker=\"o\",\n",
    "    ms=3,\n",
    "    ax=ax,\n",
    ")\n",
    "df[df.rollout_length == 25].sort_values(\"loss_alpha\").plot(\n",
    "    x=\"loss_alpha\", \n",
    "    y=\"mean_rmse\", \n",
    "    label=\"25 & 25\", \n",
    "    marker=\"o\",\n",
    "    ms=3,\n",
    "    ax=ax,\n",
    ")\n",
    "\n",
    "plt.tight_layout()\n",
    "plt.savefig(\"alpha_plots.png\", dpi=300)"
   ]
  },
  {
   "cell_type": "code",
   "execution_count": 11,
   "id": "f1d60f52-3154-44ee-83a3-7bfa01d132ae",
   "metadata": {
    "ExecuteTime": {
     "end_time": "2024-04-30T09:57:25.858158Z",
     "start_time": "2024-04-30T09:57:25.852001Z"
    }
   },
   "outputs": [],
   "source": [
    "def find_best_model(df: pd.DataFrame):\n",
    "    return df[df.mean_rmse == df.mean_rmse.min()]"
   ]
  },
  {
   "cell_type": "code",
   "execution_count": 68,
   "id": "9a36a62c-1934-40cf-8910-c5a75a703737",
   "metadata": {
    "ExecuteTime": {
     "end_time": "2024-04-30T13:15:51.467387Z",
     "start_time": "2024-04-30T13:15:51.440948Z"
    }
   },
   "outputs": [
    {
     "data": {
      "text/plain": [
       "'/gpfs/work/zinchenk/final_experiments/120324_try_batch_norm/data_assimilation/multirun/2024-03-12/22-03-06/5'"
      ]
     },
     "execution_count": 68,
     "metadata": {},
     "output_type": "execute_result"
    }
   ],
   "source": [
    "checkpoint_best_weak = find_best_model(df[df.rollout_length == 25])[\"experiment_dir\"].item()\n",
    "checkpoint_best_weak"
   ]
  },
  {
   "cell_type": "code",
   "execution_count": 13,
   "id": "afc55663-02e9-490b-8c65-60ab232bb40c",
   "metadata": {
    "ExecuteTime": {
     "end_time": "2024-04-30T09:57:26.797018Z",
     "start_time": "2024-04-30T09:57:26.772408Z"
    }
   },
   "outputs": [
    {
     "data": {
      "text/plain": [
       "'/gpfs/work/zinchenk/final_experiments/120324_try_batch_norm/data_assimilation/multirun/2024-03-12/22-03-06/0'"
      ]
     },
     "execution_count": 13,
     "metadata": {},
     "output_type": "execute_result"
    }
   ],
   "source": [
    "checkpoint_best_strong = find_best_model(df[(df.rollout_length == 25) & (df.loss_alpha == 0)])[\"experiment_dir\"].item()\n",
    "checkpoint_best_strong"
   ]
  },
  {
   "cell_type": "markdown",
   "id": "8eaefec2c8a3fc48",
   "metadata": {},
   "source": [
    "# Mesh test for best strong constraint model"
   ]
  },
  {
   "cell_type": "code",
   "execution_count": 14,
   "id": "2214cd702a26fbb1",
   "metadata": {
    "ExecuteTime": {
     "end_time": "2024-04-30T09:57:27.353298Z",
     "start_time": "2024-04-30T09:57:27.345028Z"
    }
   },
   "outputs": [],
   "source": [
    "device = torch.device(\"cuda\")\n",
    "\n",
    "test_data_dir = \"/gpfs/home/zinchenk/dev/hidden-process-learning/data/test/lorenz-one_level-grid_40-forcing_8.0-dt_0.01-rk4.h5\"\n",
    "experiment_dir = checkpoint_best_strong\n",
    "n_simulations = 25\n",
    "noise_std_min = 0.1\n",
    "noise_std_max = 3.0\n",
    "mask_fraction_min = 0.1\n",
    "mask_fraction_max = 0.9\n",
    "mesh_steps = 15\n",
    "ignore_edges = True\n",
    "output_directory = \"/gpfs/home/zinchenk/dev/hidden-process-learning/notebooks/\"\n",
    "n_jobs = 10\n",
    "seed = 101"
   ]
  },
  {
   "cell_type": "code",
   "execution_count": 15,
   "id": "f1df131b-304b-47b6-a7d8-9eb95e6519a5",
   "metadata": {
    "ExecuteTime": {
     "end_time": "2024-04-30T09:57:28.128081Z",
     "start_time": "2024-04-30T09:57:28.121328Z"
    }
   },
   "outputs": [],
   "source": [
    "timestamp = datetime.now().strftime(\"%Y-%d-%m-%H-%M\")\n",
    "output_directory = os.path.join(output_directory, timestamp)\n",
    "os.makedirs(output_directory)"
   ]
  },
  {
   "cell_type": "code",
   "execution_count": 16,
   "id": "da99f388e5b0481f",
   "metadata": {
    "ExecuteTime": {
     "end_time": "2024-04-30T10:10:26.935983Z",
     "start_time": "2024-04-30T09:57:28.651605Z"
    }
   },
   "outputs": [
    {
     "name": "stderr",
     "output_type": "stream",
     "text": [
      "/gpfs/work/zinchenk/lib/miniconda3/envs/hpl-torch/lib/python3.9/site-packages/torch/functional.py:504: UserWarning: torch.meshgrid: in an upcoming release, it will be required to pass the indexing argument. (Triggered internally at /opt/conda/conda-bld/pytorch_1678402374358/work/aten/src/ATen/native/TensorShape.cpp:3483.)\n",
      "  return _VF.meshgrid(tensors, **kwargs)  # type: ignore[attr-defined]\n",
      "100%|███████████████████████████████████████████████████████████████████████████████████████████████████████████████████████| 225/225 [12:03<00:00,  3.21s/it]\n"
     ]
    }
   ],
   "source": [
    "args = Namespace(\n",
    "    data_path=test_data_dir,\n",
    "    experiment_dir=experiment_dir,\n",
    "    output_dir=output_directory,\n",
    "    noise_std_min=noise_std_min,\n",
    "    noise_std_max=noise_std_max,\n",
    "    mask_fraction_min=mask_fraction_min,\n",
    "    mask_fraction_max=mask_fraction_max,\n",
    "    mesh_steps=mesh_steps,\n",
    "    seed=seed,\n",
    "    n_simulations=n_simulations,\n",
    "    device=str(device),\n",
    "    ignore_edges=ignore_edges,\n",
    "    n_jobs=n_jobs,\n",
    ")\n",
    "\n",
    "mesh_test_single_model(args, experiment_dir)"
   ]
  },
  {
   "cell_type": "markdown",
   "id": "559e8449e10719ad",
   "metadata": {},
   "source": [
    "# Mesh test for best weak constraint model"
   ]
  },
  {
   "cell_type": "code",
   "execution_count": 17,
   "id": "95656038d432b1b5",
   "metadata": {
    "ExecuteTime": {
     "end_time": "2024-04-30T10:10:49.175387Z",
     "start_time": "2024-04-30T10:10:49.166499Z"
    }
   },
   "outputs": [],
   "source": [
    "device = torch.device(\"cuda\")\n",
    "\n",
    "test_data_dir = \"/gpfs/home/zinchenk/dev/hidden-process-learning/data/test/lorenz-one_level-grid_40-forcing_8.0-dt_0.01-rk4.h5\"\n",
    "experiment_dir = checkpoint_best_weak\n",
    "n_simulations = 25\n",
    "noise_std_min = 0.1\n",
    "noise_std_max = 3.0\n",
    "mask_fraction_min = 0.1\n",
    "mask_fraction_max = 0.9\n",
    "mesh_steps = 15\n",
    "ignore_edges = True\n",
    "output_directory = \"/gpfs/home/zinchenk/dev/hidden-process-learning/notebooks/\"\n",
    "n_jobs = 10\n",
    "seed = 101"
   ]
  },
  {
   "cell_type": "code",
   "execution_count": 18,
   "id": "98ed49b0c152c2cd",
   "metadata": {
    "ExecuteTime": {
     "end_time": "2024-04-30T10:10:50.308944Z",
     "start_time": "2024-04-30T10:10:50.301850Z"
    }
   },
   "outputs": [],
   "source": [
    "timestamp = datetime.now().strftime(\"%Y-%d-%m-%H-%M\")\n",
    "output_directory = os.path.join(output_directory, timestamp)\n",
    "os.makedirs(output_directory)"
   ]
  },
  {
   "cell_type": "code",
   "execution_count": 19,
   "id": "cc650da7a3c298b5",
   "metadata": {
    "ExecuteTime": {
     "end_time": "2024-04-30T10:23:01.634104Z",
     "start_time": "2024-04-30T10:10:51.418947Z"
    }
   },
   "outputs": [
    {
     "name": "stderr",
     "output_type": "stream",
     "text": [
      "100%|███████████████████████████████████████████████████████████████████████████████████████████████████████████████████████| 225/225 [11:15<00:00,  3.00s/it]\n"
     ]
    }
   ],
   "source": [
    "args = Namespace(\n",
    "    data_path=test_data_dir,\n",
    "    experiment_dir=experiment_dir,\n",
    "    output_dir=output_directory,\n",
    "    noise_std_min=noise_std_min,\n",
    "    noise_std_max=noise_std_max,\n",
    "    mask_fraction_min=mask_fraction_min,\n",
    "    mask_fraction_max=mask_fraction_max,\n",
    "    mesh_steps=mesh_steps,\n",
    "    seed=seed,\n",
    "    n_simulations=n_simulations,\n",
    "    device=str(device),\n",
    "    ignore_edges=ignore_edges,\n",
    "    n_jobs=n_jobs,\n",
    ")\n",
    "\n",
    "mesh_test_single_model(args, experiment_dir)"
   ]
  },
  {
   "cell_type": "markdown",
   "id": "ead42a4670433564",
   "metadata": {},
   "source": [
    "# Plotting"
   ]
  },
  {
   "cell_type": "code",
   "execution_count": 44,
   "id": "dfc6291cc2c8a44e",
   "metadata": {
    "ExecuteTime": {
     "end_time": "2024-04-30T10:45:39.210781Z",
     "start_time": "2024-04-30T10:45:39.039148Z"
    }
   },
   "outputs": [],
   "source": [
    "simulations = test_simulations[:n_simulations]\n",
    "\n",
    "experiment_dir_strong = \"/gpfs/work/zinchenk/final_experiments/120324_try_batch_norm/data_assimilation/multirun/2024-03-12/22-03-06/0\"\n",
    "experiment_dir_weak = \"/gpfs/work/zinchenk/final_experiments/120324_try_batch_norm/data_assimilation/multirun/2024-03-12/22-03-06/5\"\n",
    "\n",
    "config_strong = load_hydra_config(experiment_dir_strong)\n",
    "config_weak = load_hydra_config(experiment_dir_weak)\n",
    "\n",
    "output_directory_strong = \"/gpfs/home/zinchenk/dev/hidden-process-learning/notebooks/2024-30-04-11-57\"\n",
    "output_directory_weak = \"/gpfs/home/zinchenk/dev/hidden-process-learning/notebooks/2024-30-04-12-10\""
   ]
  },
  {
   "cell_type": "code",
   "execution_count": 44,
   "id": "85352611e3b12ca3",
   "metadata": {
    "ExecuteTime": {
     "end_time": "2024-04-30T10:45:42.057644Z",
     "start_time": "2024-04-30T10:45:42.053208Z"
    }
   },
   "outputs": [],
   "source": []
  },
  {
   "cell_type": "code",
   "execution_count": 45,
   "id": "ea3f8b7c4fa0ccd3",
   "metadata": {
    "ExecuteTime": {
     "end_time": "2024-04-30T10:45:44.380461Z",
     "start_time": "2024-04-30T10:45:44.364326Z"
    }
   },
   "outputs": [],
   "source": [
    "def prepare_mesh_plot(config, output_directory, simulations):\n",
    "    rmse_dict = dict(\n",
    "        noise_std=[],\n",
    "        mask_fraction=[],\n",
    "        rmse=[],\n",
    "    )\n",
    "\n",
    "    rmse_func = MeanSquaredError(squared=False)\n",
    "    output_files = os.listdir(output_directory)\n",
    "    for output in tqdm(output_files):\n",
    "        path_to_file = os.path.join(output_directory, output)\n",
    "        ground_truth = simulations\n",
    "        with h5py.File(path_to_file, \"r\") as file:\n",
    "            ignore_edges = file.attrs[\"ignore_edges\"]\n",
    "            experiment_dir = file.attrs[\"experiment_dir\"]\n",
    "            rmse_dict[\"noise_std\"].append(file.attrs[\"noise_std\"])\n",
    "            rmse_dict[\"mask_fraction\"].append(file.attrs[\"mask_fraction\"])\n",
    "            reconstruction = torch.from_numpy(file[\"reconstruction\"][:])\n",
    "            if ignore_edges:\n",
    "                config = load_hydra_config(experiment_dir)\n",
    "                input_window_extend = config.datamodule.dataset.input_window_extend\n",
    "                ground_truth = simulations[:, input_window_extend:-input_window_extend + 1].cpu()\n",
    "            avg_rmse = [rmse_func(reconstruction[i], ground_truth[i]) for i in range(reconstruction.size(0))]\n",
    "            avg_rmse = torch.tensor(avg_rmse).mean().item()\n",
    "            rmse_dict[\"rmse\"].append(avg_rmse)\n",
    "\n",
    "    rmse_frame = pd.DataFrame(rmse_dict)\n",
    "    rmse_frame.sort_values([\"noise_std\", 'mask_fraction'], inplace=True)\n",
    "    return rmse_frame"
   ]
  },
  {
   "cell_type": "code",
   "execution_count": 46,
   "id": "faf692ef993b9ad8",
   "metadata": {
    "ExecuteTime": {
     "end_time": "2024-04-30T10:46:57.120330Z",
     "start_time": "2024-04-30T10:46:24.438084Z"
    }
   },
   "outputs": [
    {
     "name": "stderr",
     "output_type": "stream",
     "text": [
      "100%|███████████████████████████████████████████████████████████████████████████████████████████████████████████████████████| 225/225 [00:16<00:00, 13.76it/s]\n",
      "100%|███████████████████████████████████████████████████████████████████████████████████████████████████████████████████████| 225/225 [00:16<00:00, 13.80it/s]\n"
     ]
    }
   ],
   "source": [
    "df_strong = prepare_mesh_plot(config_strong, output_directory_strong, simulations)\n",
    "df_weak = prepare_mesh_plot(config_weak, output_directory_weak, simulations)"
   ]
  },
  {
   "cell_type": "code",
   "execution_count": 47,
   "id": "c5e0ac860ac71038",
   "metadata": {
    "ExecuteTime": {
     "end_time": "2024-04-30T10:50:14.028856Z",
     "start_time": "2024-04-30T10:50:14.020179Z"
    }
   },
   "outputs": [],
   "source": [
    "noise_std_flatten = df_strong.noise_std.values\n",
    "mask_fraction_flatten = df_strong.mask_fraction.values\n",
    "rmse_flatten = df_strong.rmse.values\n",
    "\n",
    "noise_mesh = noise_std_flatten.reshape(mesh_steps, mesh_steps)\n",
    "mask_fracton_mesh = mask_fraction_flatten.reshape(mesh_steps, mesh_steps)\n",
    "rmse_mesh_strong = rmse_flatten.reshape(mesh_steps, mesh_steps)"
   ]
  },
  {
   "cell_type": "code",
   "execution_count": 48,
   "id": "656f638a6fd9018",
   "metadata": {
    "ExecuteTime": {
     "end_time": "2024-04-30T10:50:30.315573Z",
     "start_time": "2024-04-30T10:50:30.306867Z"
    }
   },
   "outputs": [],
   "source": [
    "noise_std_flatten = df_weak.noise_std.values\n",
    "mask_fraction_flatten = df_weak.mask_fraction.values\n",
    "rmse_flatten = df_weak.rmse.values\n",
    "\n",
    "noise_mesh = noise_std_flatten.reshape(mesh_steps, mesh_steps)\n",
    "mask_fracton_mesh = mask_fraction_flatten.reshape(mesh_steps, mesh_steps)\n",
    "rmse_mesh_weak = rmse_flatten.reshape(mesh_steps, mesh_steps)"
   ]
  },
  {
   "cell_type": "code",
   "execution_count": 65,
   "id": "5a3aaade19654da2",
   "metadata": {
    "ExecuteTime": {
     "end_time": "2024-04-30T10:57:57.089901Z",
     "start_time": "2024-04-30T10:57:56.200599Z"
    }
   },
   "outputs": [
    {
     "data": {
      "image/png": "[encoded data removed]",
      "text/plain": [
       "<Figure size 800x300 with 3 Axes>"
      ]
     },
     "metadata": {},
     "output_type": "display_data"
    }
   ],
   "source": [
    "mosaic = \"\"\"\n",
    "ab\n",
    "\"\"\"\n",
    "fig, axd = plt.subplot_mosaic(mosaic=mosaic, figsize=(8, 3))\n",
    "\n",
    "df[(df.rollout_length == 1) & (df.loss_alpha > 0)].sort_values(\"loss_alpha\").plot(\n",
    "    x=\"loss_alpha\",\n",
    "    y=\"mean_rmse\",\n",
    "    label=\"1 & 10\",\n",
    "    marker=\"o\",\n",
    "    ms=3,\n",
    "    ax=axd[\"a\"],\n",
    ")\n",
    "df[df.rollout_length == 10].sort_values(\"loss_alpha\").plot(\n",
    "    x=\"loss_alpha\",\n",
    "    y=\"mean_rmse\",\n",
    "    label=\"10 & 10\",\n",
    "    marker=\"o\",\n",
    "    ms=3,\n",
    "    ax=axd[\"a\"],\n",
    ")\n",
    "df[df.rollout_length == 25].sort_values(\"loss_alpha\").plot(\n",
    "    x=\"loss_alpha\",\n",
    "    y=\"mean_rmse\",\n",
    "    label=\"25 & 25\",\n",
    "    marker=\"o\",\n",
    "    ms=3,\n",
    "    ax=axd[\"a\"],\n",
    ")\n",
    "\n",
    "axd[\"a\"].set_xlabel(\"alpha\")\n",
    "axd[\"a\"].set_ylabel(\"RMSE\")\n",
    "\n",
    "img = axd[\"b\"].pcolor(mask_fracton_mesh[0, :], noise_mesh[:, 0], rmse_mesh_weak, cmap=\"viridis\")\n",
    "plt.colorbar(img)\n",
    "axd[\"b\"].scatter(0.75, 1.0, marker='x', color=\"red\")\n",
    "axd[\"b\"].set_xlabel(\"missing data fraction\")\n",
    "axd[\"b\"].set_ylabel(\"noise standard deviation\")\n",
    "\n",
    "for letter, ax in axd.items():\n",
    "    ax.set_title(f\"{letter})\", loc=\"left\", fontsize=13, fontweight=\"bold\")\n",
    "\n",
    "plt.tight_layout()\n",
    "plt.savefig(\"data_assimilation_generalization.png\", dpi=300)"
   ]
  },
  {
   "cell_type": "code",
   "execution_count": 36,
   "id": "95b7d473ddd467d",
   "metadata": {
    "ExecuteTime": {
     "end_time": "2024-04-30T10:28:17.398405Z",
     "start_time": "2024-04-30T10:28:17.392128Z"
    }
   },
   "outputs": [],
   "source": []
  },
  {
   "cell_type": "code",
   "execution_count": 54,
   "id": "a4920622579e13f9",
   "metadata": {
    "ExecuteTime": {
     "end_time": "2024-04-30T10:52:09.697600Z",
     "start_time": "2024-04-30T10:52:09.692937Z"
    }
   },
   "outputs": [],
   "source": []
  },
  {
   "cell_type": "code",
   "execution_count": 59,
   "id": "87e71ddef83f4e78",
   "metadata": {
    "ExecuteTime": {
     "end_time": "2024-04-30T10:54:05.317399Z",
     "start_time": "2024-04-30T10:54:05.312835Z"
    }
   },
   "outputs": [],
   "source": []
  },
  {
   "cell_type": "code",
   "execution_count": null,
   "id": "c6239665da50596e",
   "metadata": {},
   "outputs": [],
   "source": []
  }
 ],
 "metadata": {
  "kernelspec": {
   "display_name": "Python 3 (ipykernel)",
   "language": "python",
   "name": "python3"
  },
  "language_info": {
   "codemirror_mode": {
    "name": "ipython",
    "version": 3
   },
   "file_extension": ".py",
   "mimetype": "text/x-python",
   "name": "python",
   "nbconvert_exporter": "python",
   "pygments_lexer": "ipython3",
   "version": "3.9.16"
  }
 },
 "nbformat": 4,
 "nbformat_minor": 5
}
